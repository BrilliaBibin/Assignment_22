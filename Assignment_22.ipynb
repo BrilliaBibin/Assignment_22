{
 "cells": [
  {
   "cell_type": "raw",
   "id": "c3a516f1-e097-4c58-a3f1-acddbca58590",
   "metadata": {},
   "source": [
    "1. What is the result of the code, and explain?\n",
    "\n",
    ">>> X = 'iNeuron'\n",
    ">>> def func():\n",
    "print(X)\n",
    "\n",
    ">>>func()"
   ]
  },
  {
   "cell_type": "code",
   "execution_count": 1,
   "id": "8c149197-6cf4-49fc-8c04-2d6abd78e2f8",
   "metadata": {},
   "outputs": [
    {
     "name": "stdout",
     "output_type": "stream",
     "text": [
      "iNeuron\n"
     ]
    }
   ],
   "source": [
    "X = 'iNeuron'\n",
    "def func():\n",
    "    print(X)\n",
    "\n",
    "func()"
   ]
  },
  {
   "cell_type": "code",
   "execution_count": null,
   "id": "e73412c5-a95b-4dfb-9cce-91d09a58e9df",
   "metadata": {},
   "outputs": [],
   "source": [
    "When func() is called it will execute the statement written inside it which print the value of x whose value is assigned as 'ineuron'."
   ]
  },
  {
   "cell_type": "raw",
   "id": "cdb5ae33-fff4-44d9-9a07-e3f776e979b6",
   "metadata": {},
   "source": [
    "2. What is the result of the code, and explain?\n",
    "\n",
    ">>>X = 'iNeuron'\n",
    ">>> def func():\n",
    "X = 'NI!'\n",
    "\n",
    ">>> func()\n",
    ">>> print(X)"
   ]
  },
  {
   "cell_type": "code",
   "execution_count": 3,
   "id": "bff8ec79-4781-4f85-b3f1-d22bcbe9e434",
   "metadata": {},
   "outputs": [
    {
     "name": "stdout",
     "output_type": "stream",
     "text": [
      "iNeuron\n"
     ]
    }
   ],
   "source": [
    "X = 'iNeuron'\n",
    "def func():\n",
    "    X = 'NI!'\n",
    "\n",
    "func()\n",
    "print(X)"
   ]
  },
  {
   "cell_type": "code",
   "execution_count": null,
   "id": "c2b0d8cc-4ef3-4725-a510-82bb8e2ee2a6",
   "metadata": {},
   "outputs": [],
   "source": [
    "When func() is called it will execute the statement written inside it that initialize value of x='NI' but it doesnot return anything(None) and  it comes out of the block. Again when print(x) is executed it prints the value of X = 'iNeuron'."
   ]
  },
  {
   "cell_type": "raw",
   "id": "3c921123-d76f-4178-9346-782bc1aae960",
   "metadata": {},
   "source": [
    "3. What does this code print, and why?\n",
    "\n",
    ">>> X = 'iNeuron'\n",
    ">>>def func():\n",
    "X = 'NI'\n",
    "print(X)\n",
    "\n",
    ">>> func()\n",
    ">>> print(X)"
   ]
  },
  {
   "cell_type": "code",
   "execution_count": 6,
   "id": "b48e959a-0227-41fe-a597-25d95a7912f7",
   "metadata": {},
   "outputs": [
    {
     "name": "stdout",
     "output_type": "stream",
     "text": [
      "NI\n"
     ]
    }
   ],
   "source": [
    "X = 'iNeuron'\n",
    "def func():\n",
    "    X = 'NI'\n",
    "    print(X)\n",
    "\n",
    "func()"
   ]
  },
  {
   "cell_type": "code",
   "execution_count": 7,
   "id": "68d9f924-f14c-4f2a-9b0d-813da6fb3e51",
   "metadata": {},
   "outputs": [
    {
     "name": "stdout",
     "output_type": "stream",
     "text": [
      "iNeuron\n"
     ]
    }
   ],
   "source": [
    "print(X)"
   ]
  },
  {
   "cell_type": "code",
   "execution_count": null,
   "id": "09567da9-a23b-4b8b-9bca-773ad2b8fa11",
   "metadata": {},
   "outputs": [],
   "source": [
    "When func() is called it will execute the statement written inside it which initialize value of x='NI' and subsequently print the value of X.The scope of X = 'NI'is within the block func(). But when a print statement i.e print(X) is executed it prints x value as iNeuron.(X is treated as global variable)."
   ]
  },
  {
   "cell_type": "raw",
   "id": "6969c9dc-86b0-471d-915b-3340704056c1",
   "metadata": {},
   "source": [
    "4. What output does this code produce? Why?\n",
    "\n",
    ">>> X = 'iNeuron'\n",
    ">>>def func():\n",
    "global X\n",
    "X = 'NI'\n",
    "\n",
    ">>> func()\n",
    ">>> print(X)"
   ]
  },
  {
   "cell_type": "code",
   "execution_count": 8,
   "id": "0941a399-d8f6-4536-be4f-5ca22ece2339",
   "metadata": {},
   "outputs": [
    {
     "name": "stdout",
     "output_type": "stream",
     "text": [
      "NI\n"
     ]
    }
   ],
   "source": [
    "X = 'iNeuron'\n",
    "def func():\n",
    "    global X\n",
    "X = 'NI'\n",
    "\n",
    "func()\n",
    "print(X)"
   ]
  },
  {
   "cell_type": "code",
   "execution_count": null,
   "id": "22abd24d-8ac9-4d9d-b853-93524a8f75f9",
   "metadata": {},
   "outputs": [],
   "source": [
    "Here in func() we have declared X as global variable hence it's previous value i.e 'iNeuron' is overrided and when print(x) is executed it prints updated value i.e 'NI'."
   ]
  },
  {
   "cell_type": "raw",
   "id": "38a855e2-c329-47ad-80d6-349257215195",
   "metadata": {},
   "source": [
    "5. What about this code—what’s the output, and why?\n",
    "\n",
    ">>> X = 'iNeuron'\n",
    ">>>def func():\n",
    "X = 'NI'\n",
    "def nested():\n",
    "print(X)\n",
    "nested()\n",
    "\n",
    ">>>func()\n",
    ">>> X"
   ]
  },
  {
   "cell_type": "code",
   "execution_count": 10,
   "id": "810e246e-7d60-4c5e-b8a2-cb468ef24294",
   "metadata": {},
   "outputs": [
    {
     "name": "stdout",
     "output_type": "stream",
     "text": [
      "iNeuron\n"
     ]
    },
    {
     "data": {
      "text/plain": [
       "'iNeuron'"
      ]
     },
     "execution_count": 10,
     "metadata": {},
     "output_type": "execute_result"
    }
   ],
   "source": [
    "X = 'iNeuron'\n",
    "def func():\n",
    "    X = 'NI'\n",
    "def nested():\n",
    "    print(X)\n",
    "nested()\n",
    "\n",
    "func()\n",
    "X"
   ]
  },
  {
   "cell_type": "code",
   "execution_count": null,
   "id": "1f9d26de-e407-4a26-a2ff-373f2a44ce43",
   "metadata": {},
   "outputs": [],
   "source": [
    "Here when nested() is called it prints X = 'iNeuron'(Global variable). In func(), X = 'NI' the scope of X is within func() as it is a local variable."
   ]
  },
  {
   "cell_type": "raw",
   "id": "7be30f20-7ae5-4b81-ad41-7a613cee492a",
   "metadata": {},
   "source": [
    "6. How about this code: what is its output in Python 3, and explain?\n",
    "\n",
    ">>> def func():\n",
    "X = 'NI'\n",
    "def nested():\n",
    "nonlocal X\n",
    "X = 'Spam'\n",
    "nested()\n",
    "print(X)\n",
    "\n",
    ">>> func()"
   ]
  },
  {
   "cell_type": "code",
   "execution_count": 12,
   "id": "1fe92949-92d2-4784-acbf-956131eb4d97",
   "metadata": {},
   "outputs": [
    {
     "ename": "SyntaxError",
     "evalue": "no binding for nonlocal 'X' found (698542634.py, line 4)",
     "output_type": "error",
     "traceback": [
      "\u001b[0;36m  Cell \u001b[0;32mIn [12], line 4\u001b[0;36m\u001b[0m\n\u001b[0;31m    nonlocal X\u001b[0m\n\u001b[0m    ^\u001b[0m\n\u001b[0;31mSyntaxError\u001b[0m\u001b[0;31m:\u001b[0m no binding for nonlocal 'X' found\n"
     ]
    }
   ],
   "source": [
    "def func():\n",
    "    X = 'NI'\n",
    "def nested():\n",
    "    nonlocal X\n",
    "    X = 'Spam'\n",
    "nested()\n",
    "print(X)\n",
    "\n",
    "func()"
   ]
  },
  {
   "cell_type": "code",
   "execution_count": null,
   "id": "7834e1a9-687f-45ed-a24f-bfae2ddace13",
   "metadata": {},
   "outputs": [],
   "source": [
    "A variable if we want to access outside the block as well as within the block should be declared as global."
   ]
  }
 ],
 "metadata": {
  "kernelspec": {
   "display_name": "Python 3 (ipykernel)",
   "language": "python",
   "name": "python3"
  },
  "language_info": {
   "codemirror_mode": {
    "name": "ipython",
    "version": 3
   },
   "file_extension": ".py",
   "mimetype": "text/x-python",
   "name": "python",
   "nbconvert_exporter": "python",
   "pygments_lexer": "ipython3",
   "version": "3.10.6"
  }
 },
 "nbformat": 4,
 "nbformat_minor": 5
}
